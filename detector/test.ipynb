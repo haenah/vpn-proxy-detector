{
 "cells": [
  {
   "cell_type": "code",
   "execution_count": 1,
   "metadata": {},
   "outputs": [],
   "source": [
    "import numpy as np\n",
    "import pandas as pd\n",
    "import sys\n",
    "import seaborn as sns\n",
    "import matplotlib.pyplot as plt\n",
    "\n",
    "from filenames import vpn_file_names, nvpn_file_names, file_name_groups\n"
   ]
  },
  {
   "cell_type": "code",
   "execution_count": 30,
   "metadata": {},
   "outputs": [],
   "source": [
    "server_ip_to_filename = {}\n",
    "\n",
    "def insert_server_ip_filename(is_vpn, server_ip, filename):\n",
    "    if server_ip not in server_ip_to_filename:\n",
    "        server_ip_to_filename[server_ip] = {\"vpn\": [], \"nvpn\": []}\n",
    "    server_ip_to_filename[server_ip][is_vpn].append(filename)\n",
    "\n",
    "def load_csv_file_group(group_idx):\n",
    "    global server_ip_to_filename\n",
    "    dfs = []\n",
    "    server_ip_to_filename = {}\n",
    "    file_name_group = file_name_groups[group_idx]\n",
    "    for filename, is_vpn in file_name_group:\n",
    "        filename = filename.split(\".\")[0]\n",
    "        try:\n",
    "            df = pd.read_csv(f\"./{is_vpn}_csv/{filename}.csv\")\n",
    "            df_len = len(df)\n",
    "            df['source'] = filename\n",
    "            df['weight'] = 1 / df_len\n",
    "            src_series = df['src IP']\n",
    "            dst_series = df['dst IP']\n",
    "            series = pd.concat([src_series, dst_series])\n",
    "            server_IP = series.value_counts().idxmax()\n",
    "            max_freq = series.value_counts().max()\n",
    "            if len(src_series) != max_freq:\n",
    "                print(idx, filename, len(src_series), max_freq)\n",
    "                continue\n",
    "            insert_server_ip_filename(is_vpn, server_IP, filename)\n",
    "            df = df[df['src IP'] != server_IP]\n",
    "            dfs.append(df)\n",
    "\n",
    "        except:\n",
    "            print(filename + \".csv\")\n",
    "            pass\n",
    "\n",
    "\n",
    "    for server_ip, value in server_ip_to_filename.items():\n",
    "        print(server_ip, value)\n",
    "\n",
    "    df = pd.concat(dfs)\n",
    "    df['src freq'] = df.groupby('src IP')['src IP'].transform('count') * df['weight']\n",
    "    df['log_freq'] = np.log(df['src freq'])\n",
    "    df['log_length'] = np.log(df['length'])\n",
    "\n",
    "    dst_count = df['dst IP'].value_counts()\n",
    "\n",
    "    return df, server_ip_to_filename\n",
    "\n",
    "def load_nfs_file_group(group_idx):\n",
    "    global server_ip_to_filename\n",
    "    dfs = []\n",
    "    file_name_group = file_name_groups[group_idx]\n",
    "    for filename, is_vpn in file_name_group:\n",
    "        filename = filename.split(\".\")[0]\n",
    "        try:\n",
    "            df = pd.read_csv(f\"./nfs/{filename}.csv\")\n",
    "        except:\n",
    "            print(filename + \".csv\")\n",
    "            pass\n",
    "        df['log_freq'] = np.log(df['src_freq'])\n",
    "        dfs.append(df)\n",
    "    df = pd.concat(dfs)\n",
    "\n",
    "    return df"
   ]
  },
  {
   "cell_type": "code",
   "execution_count": 39,
   "metadata": {},
   "outputs": [
    {
     "name": "stderr",
     "output_type": "stream",
     "text": [
      "/tmp/ipykernel_1848768/3039682729.py:56: DtypeWarning: Columns (35,36,37) have mixed types. Specify dtype option on import or set low_memory=False.\n",
      "  df = pd.read_csv(f\"./nfs/{filename}.csv\")\n"
     ]
    },
    {
     "name": "stdout",
     "output_type": "stream",
     "text": [
      "1.0\n"
     ]
    },
    {
     "data": {
      "image/png": "[encoded data removed]",
      "text/plain": [
       "<Figure size 640x480 with 1 Axes>"
      ]
     },
     "metadata": {},
     "output_type": "display_data"
    }
   ],
   "source": [
    "from sklearn.ensemble import RandomForestClassifier\n",
    "from sklearn.datasets import make_classification\n",
    "from nfstream import NFPlugin, NFStreamer\n",
    "\n",
    "\n",
    "df = load_nfs_file_group(-1)\n",
    "file_names = [file_name[0] for file_name in file_name_groups[3]]\n",
    "df = df[df['file_name'].isin(file_names)]\n",
    "\n",
    "#sns.scatterplot(data=df, x='src_freq', y='src2dst_bytes', hue='label', s=10.0, alpha=1.0)\n",
    "sns.scatterplot(data=df, x='src_freq', y='src2dst_duration_ms', hue='label', s=10.0, alpha=1.0)\n",
    "plt.xscale('log')\n",
    "plt.yscale('log')\n",
    "\n",
    "\n",
    "\n",
    "X = df[[\"src_freq\", \"src2dst_duration_ms\"]]\n",
    "y = df[\"label\"].apply(lambda x: 1 if x == 'vpn' else 0)\n",
    "dataset_size = len(X)\n",
    "train_mask = np.random.rand(dataset_size) < 0.7\n",
    "X_train = X[train_mask]\n",
    "y_train = y[train_mask]\n",
    "X_test = X[~train_mask]\n",
    "y_test = y[~train_mask]\n",
    "clf = RandomForestClassifier(max_depth=2, random_state=0)\n",
    "clf.fit(X_train, y_train)\n",
    "prediction = clf.predict(X_test)\n",
    "print((prediction == y_test).sum() / len(y_test))\n",
    "\n"
   ]
  },
  {
   "cell_type": "code",
   "execution_count": 5,
   "metadata": {},
   "outputs": [
    {
     "name": "stdout",
     "output_type": "stream",
     "text": [
      "Pandas(Index=0, _1=0, expiration_id=0, src_ip='10.8.8.178', src_mac='00:00:00:00:00:00', src_oui='00:00:00', src_port=15685, dst_ip='157.55.130.172', dst_mac='00:00:00:00:00:00', dst_oui='00:00:00', dst_port=40027, protocol=17, ip_version=4, vlan_id=0, tunnel_id=0, bidirectional_first_seen_ms=1433356961219, bidirectional_last_seen_ms=1433356961424, bidirectional_duration_ms=205, bidirectional_packets=2, bidirectional_bytes=212, src2dst_first_seen_ms=1433356961219, src2dst_last_seen_ms=1433356961219, src2dst_duration_ms=0, src2dst_packets=1, src2dst_bytes=163, dst2src_first_seen_ms=1433356961424, dst2src_last_seen_ms=1433356961424, dst2src_duration_ms=0, dst2src_packets=1, dst2src_bytes=49, application_name='Skype_Teams.Skype_TeamsCall', application_category_name='VoIP', application_is_guessed=0, application_confidence=6, requested_server_name=nan, client_fingerprint=nan, server_fingerprint=nan, user_agent=nan, content_type=nan, src_freq=740, log_freq=6.606650186198215)\n"
     ]
    }
   ],
   "source": [
    "ip_info = {}\n",
    "for row in df.itertuples():\n",
    "    print(row)\n",
    "    break\n",
    "    if row._5 in ip_info:\n",
    "        ip_info[row._5][row.label] += 1\n",
    "    else:\n",
    "        ip_info[row._5] = {\"vpn\": 0, \"nvpn\": 0}\n",
    "        ip_info[row._5][row.label] += 1\n",
    "for k, v in ip_info.items():\n",
    "    if v['vpn'] > 0 and v['nvpn'] > 0:\n",
    "        print(k, v)\n"
   ]
  },
  {
   "cell_type": "code",
   "execution_count": 8,
   "metadata": {},
   "outputs": [],
   "source": [
    "fdf_dict = {\n",
    "    'IP': [],\n",
    "    'vpn': [],\n",
    "    'nvpn': [],\n",
    "    'total': [],\n",
    "    'ratio': []\n",
    "}\n",
    "for ip, info in ip_info.items():\n",
    "    fdf_dict['IP'].append(ip)\n",
    "    fdf_dict['vpn'].append(info['vpn'])\n",
    "    fdf_dict['nvpn'].append(info['nvpn'])\n",
    "    fdf_dict['total'].append(info['vpn'] + info['nvpn'])\n",
    "    fdf_dict['ratio'].append(info['vpn'] / (info['vpn'] + info['nvpn']))\n",
    "\n",
    "fdf = pd.DataFrame(fdf_dict)"
   ]
  },
  {
   "cell_type": "code",
   "execution_count": 9,
   "metadata": {},
   "outputs": [
    {
     "ename": "NameError",
     "evalue": "name 'load_file_group' is not defined",
     "output_type": "error",
     "traceback": [
      "\u001b[0;31m---------------------------------------------------------------------------\u001b[0m",
      "\u001b[0;31mNameError\u001b[0m                                 Traceback (most recent call last)",
      "\u001b[1;32m/data_fast/home/mountguy/vpn/test.ipynb 셀 5\u001b[0m line \u001b[0;36m1\n\u001b[0;32m----> <a href='vscode-notebook-cell://ssh-remote%2Bgateway/data_fast/home/mountguy/vpn/test.ipynb#X20sdnNjb2RlLXJlbW90ZQ%3D%3D?line=0'>1</a>\u001b[0m df, server_ip_to_filename \u001b[39m=\u001b[39m load_file_group(\u001b[39m3\u001b[39m)\n\u001b[1;32m      <a href='vscode-notebook-cell://ssh-remote%2Bgateway/data_fast/home/mountguy/vpn/test.ipynb#X20sdnNjb2RlLXJlbW90ZQ%3D%3D?line=1'>2</a>\u001b[0m plt\u001b[39m.\u001b[39mclf()\n\u001b[1;32m      <a href='vscode-notebook-cell://ssh-remote%2Bgateway/data_fast/home/mountguy/vpn/test.ipynb#X20sdnNjb2RlLXJlbW90ZQ%3D%3D?line=2'>3</a>\u001b[0m sns\u001b[39m.\u001b[39mscatterplot(data\u001b[39m=\u001b[39mdf, x\u001b[39m=\u001b[39m\u001b[39m\"\u001b[39m\u001b[39mlog_freq\u001b[39m\u001b[39m\"\u001b[39m, y\u001b[39m=\u001b[39m\u001b[39m\"\u001b[39m\u001b[39mlog_length\u001b[39m\u001b[39m\"\u001b[39m, hue\u001b[39m=\u001b[39m\u001b[39m\"\u001b[39m\u001b[39mlabel\u001b[39m\u001b[39m\"\u001b[39m, s\u001b[39m=\u001b[39m\u001b[39m10.0\u001b[39m, alpha\u001b[39m=\u001b[39m\u001b[39m0.2\u001b[39m)\n",
      "\u001b[0;31mNameError\u001b[0m: name 'load_file_group' is not defined"
     ]
    }
   ],
   "source": [
    "df, server_ip_to_filename = load_file_group(3)\n",
    "plt.clf()\n",
    "sns.scatterplot(data=df, x=\"log_freq\", y=\"log_length\", hue=\"label\", s=10.0, alpha=0.2)\n",
    "#sns.scatterplot(data=df, x=\"log_freq\", y=\"log_length\", hue=\"source\", s=10.0, alpha=0.2)\n"
   ]
  },
  {
   "cell_type": "code",
   "execution_count": 12,
   "metadata": {},
   "outputs": [
    {
     "name": "stdout",
     "output_type": "stream",
     "text": [
      "(1680, 1)\n"
     ]
    }
   ],
   "source": [
    "predictions = np.array(predictions)\n",
    "print(predictions.shape)"
   ]
  },
  {
   "cell_type": "code",
   "execution_count": 13,
   "metadata": {},
   "outputs": [
    {
     "name": "stdout",
     "output_type": "stream",
     "text": [
      "6\n"
     ]
    }
   ],
   "source": [
    "print(predictions.sum())"
   ]
  }
 ],
 "metadata": {
  "kernelspec": {
   "display_name": "Python 3 (ipykernel)",
   "language": "python",
   "name": "python3"
  },
  "language_info": {
   "codemirror_mode": {
    "name": "ipython",
    "version": 3
   },
   "file_extension": ".py",
   "mimetype": "text/x-python",
   "name": "python",
   "nbconvert_exporter": "python",
   "pygments_lexer": "ipython3",
   "version": "3.9.18"
  }
 },
 "nbformat": 4,
 "nbformat_minor": 2
}
