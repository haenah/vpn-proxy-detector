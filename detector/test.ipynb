{
 "cells": [
  {
   "cell_type": "code",
   "execution_count": 6,
   "metadata": {},
   "outputs": [],
   "source": [
    "import numpy as np\n",
    "import pandas as pd\n",
    "import seaborn as sns\n",
    "import matplotlib.pyplot as plt"
   ]
  },
  {
   "cell_type": "code",
   "execution_count": 8,
   "metadata": {},
   "outputs": [
    {
     "name": "stdout",
     "output_type": "stream",
     "text": [
      "===============VNAT===============\n",
      "Loading netflix\n",
      "Loaded 205 flows\n",
      "1\n",
      "Loading rdp\n",
      "Loaded 139870 flows\n",
      "3\n",
      "Loading rsync\n",
      "Loaded 1935 flows\n",
      "6\n",
      "Loading scp\n",
      "Loaded 13472 flows\n",
      "3\n",
      "Loading sftp\n",
      "Loaded 1681 flows\n",
      "5\n",
      "Loading skype_chat\n",
      "Loaded 1455 flows\n",
      "138\n",
      "Loading ssh\n",
      "Loaded 15439 flows\n",
      "41\n",
      "Loading vimeo\n",
      "Loaded 1218 flows\n",
      "1\n",
      "Loading voip\n",
      "Loaded 622 flows\n",
      "300\n",
      "Loading youtube\n",
      "Loaded 341 flows\n",
      "3\n",
      "Loading all services\n",
      "Loaded 176238 flows\n",
      "f1 score for all is 0.9867549668874172\n"
     ]
    }
   ],
   "source": [
    "from sklearn.ensemble import RandomForestClassifier\n",
    "from sklearn.metrics import f1_score\n",
    "from to_csv_nfs_v2 import load_dataframe\n",
    "from nfs_attributes import train_attributes\n",
    "import data\n",
    "\n",
    "def fit_test(df):\n",
    "  X = df[train_attributes]\n",
    "  y = df[\"label\"]\n",
    "  dataset_size = len(X)\n",
    "  train_mask = np.random.rand(dataset_size) < 0.7\n",
    "  X_train = X[train_mask]\n",
    "  y_train = y[train_mask]\n",
    "  X_test = X[~train_mask]\n",
    "  y_test = y[~train_mask]\n",
    "  clf = RandomForestClassifier()\n",
    "  clf.fit(X_train, y_train)\n",
    "  prediction = clf.predict(X_test)\n",
    "  return f1_score(y_test, prediction)\n",
    "\n",
    "\n",
    "# version 1\n",
    "print(\"===============VPN/NonVPN===============\")\n",
    "for service in data.services:\n",
    "  df = load_dataframe(service, version=1)\n",
    "  if len(df[df[\"label\"] == 1]) == 0:\n",
    "    print(f\"no vpn packet for {service}\")\n",
    "    continue\n",
    "  f1 = fit_test(df)\n",
    "  print(f\"f1 score for {service} is {f1}\")\n",
    "df = load_dataframe(version=1)\n",
    "f1 = fit_test(df)\n",
    "print(f\"f1 score for all is {f1}\")\n",
    "\n",
    "\n",
    "# version 2\n",
    "print(\"===============VNAT===============\")\n",
    "for service in data.services_v2:\n",
    "  df = load_dataframe(service, version=2)\n",
    "  if len(df[df[\"label\"] == 1]) == 0:\n",
    "    print(f\"no vpn packet for {service}\")\n",
    "    continue\n",
    "  print(len(df[df[\"label\"] == 1]))\n",
    "  f1 = fit_test(df)\n",
    "  print(f\"f1 score for {service} is {f1}\")\n",
    "df = load_dataframe(version=2)\n",
    "f1 = fit_test(df)\n",
    "print(f\"f1 score for all is {f1}\")"
   ]
  }
 ],
 "metadata": {
  "kernelspec": {
   "display_name": "Python 3",
   "language": "python",
   "name": "python3"
  },
  "language_info": {
   "codemirror_mode": {
    "name": "ipython",
    "version": 3
   },
   "file_extension": ".py",
   "mimetype": "text/x-python",
   "name": "python",
   "nbconvert_exporter": "python",
   "pygments_lexer": "ipython3",
   "version": "3.9.18"
  }
 },
 "nbformat": 4,
 "nbformat_minor": 2
}
