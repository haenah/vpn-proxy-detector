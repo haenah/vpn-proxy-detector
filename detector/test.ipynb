{
 "cells": [
  {
   "cell_type": "code",
   "execution_count": 129,
   "metadata": {},
   "outputs": [],
   "source": [
    "import numpy as np\n",
    "from sklearn.ensemble import RandomForestClassifier\n",
    "from sklearn.metrics import f1_score\n",
    "from to_csv_nfs import load_dataframe\n",
    "from nfs_attributes import train_attributes\n",
    "import data"
   ]
  },
  {
   "cell_type": "code",
   "execution_count": 130,
   "metadata": {},
   "outputs": [],
   "source": [
    "def fit_test(df):\n",
    "  X = df[train_attributes]\n",
    "  y = df[\"label\"]\n",
    "  dataset_size = len(X)\n",
    "  train_mask = np.random.rand(dataset_size) < 0.7\n",
    "  X_train = X[train_mask]\n",
    "  y_train = y[train_mask]\n",
    "  X_test = X[~train_mask]\n",
    "  y_test = y[~train_mask]\n",
    "  clf = RandomForestClassifier()\n",
    "  clf.fit(X_train, y_train)\n",
    "  prediction = clf.predict(X_test)\n",
    "  return f1_score(y_test, prediction)"
   ]
  },
  {
   "cell_type": "code",
   "execution_count": 131,
   "metadata": {},
   "outputs": [
    {
     "name": "stdout",
     "output_type": "stream",
     "text": [
      "===============VPN/NonVPN===============\n",
      "Loading aim\n",
      "Loaded 50 flows\n",
      "f1 score for aim is 1.0\n",
      "Loading email\n",
      "Loaded 9101 flows\n",
      "f1 score for email is 0.9424083769633509\n",
      "Loading facebook_audio\n",
      "Loaded 107427 flows\n",
      "f1 score for facebook_audio is 0.9835294117647059\n",
      "Loading facebook_chat\n",
      "Loaded 1701 flows\n",
      "f1 score for facebook_chat is 0.9876203576341128\n",
      "Loading facebook_video\n",
      "Loaded 495 flows\n",
      "no vpn packet for facebook_video\n",
      "Loading ftps\n",
      "Loaded 1053 flows\n",
      "f1 score for ftps is 0.9249999999999999\n",
      "Loading gmail_chat\n",
      "Loaded 463 flows\n",
      "no vpn packet for gmail_chat\n",
      "Loading hangout_chat\n",
      "Loaded 454 flows\n",
      "no vpn packet for hangout_chat\n",
      "Loading hangouts_audio\n",
      "Loaded 111008 flows\n",
      "f1 score for hangouts_audio is 0.9930822444273635\n",
      "Loading hangouts_video\n",
      "Loaded 1582 flows\n",
      "no vpn packet for hangouts_video\n",
      "Loading icq\n",
      "Loaded 497 flows\n",
      "f1 score for icq is 0.9166666666666666\n",
      "Loading netflix\n",
      "Loaded 573 flows\n",
      "f1 score for netflix is 0.9245283018867925\n",
      "Loading scp\n",
      "Loaded 11944 flows\n",
      "no vpn packet for scp\n",
      "Loading sftp\n",
      "Loaded 255 flows\n",
      "f1 score for sftp is 0.5333333333333333\n",
      "Loading skype_audio\n",
      "Loaded 46128 flows\n",
      "f1 score for skype_audio is 0.9570267131242741\n",
      "Loading skype_chat\n",
      "Loaded 10241 flows\n",
      "f1 score for skype_chat is 0.7428571428571428\n",
      "Loading skype_file\n",
      "Loaded 72604 flows\n",
      "f1 score for skype_file is 0.9635761589403974\n",
      "Loading skype_video\n",
      "Loaded 653 flows\n",
      "no vpn packet for skype_video\n",
      "Loading spotify\n",
      "Loaded 538 flows\n",
      "f1 score for spotify is 0.905982905982906\n",
      "Loading vimeo\n",
      "Loaded 613 flows\n",
      "f1 score for vimeo is 0.9295774647887323\n",
      "Loading voipbuster\n",
      "Loaded 4861 flows\n",
      "f1 score for voipbuster is 0.8602576808721506\n",
      "Loading youtube\n",
      "Loaded 1174 flows\n",
      "f1 score for youtube is 0.9393939393939394\n",
      "Loading bittorrent\n",
      "Loaded 487 flows\n",
      "f1 score for bittorrent is 1.0\n",
      "Loading all services\n",
      "Loaded 383902 flows\n",
      "f1 score for all is 0.9349060725207515\n"
     ]
    }
   ],
   "source": [
    "# version 1\n",
    "print(\"===============VPN/NonVPN===============\")\n",
    "for service in data.services:\n",
    "    df = load_dataframe(service, version=1)\n",
    "    if len(df[df[\"label\"] == 1]) == 0:\n",
    "        print(f\"no vpn packet for {service}\")\n",
    "        continue\n",
    "    f1 = fit_test(df)\n",
    "    print(f\"f1 score for {service} is {f1}\")\n",
    "df = load_dataframe(version=1)\n",
    "f1 = fit_test(df)\n",
    "print(f\"f1 score for all is {f1}\")"
   ]
  },
  {
   "cell_type": "code",
   "execution_count": 132,
   "metadata": {},
   "outputs": [
    {
     "name": "stdout",
     "output_type": "stream",
     "text": [
      "===============VNAT===============\n",
      "Loading netflix\n",
      "Loaded 205 flows\n",
      "1\n",
      "f1 score for netflix is 0.0\n",
      "Loading rdp\n",
      "Loaded 139870 flows\n",
      "3\n"
     ]
    },
    {
     "name": "stderr",
     "output_type": "stream",
     "text": [
      "/Users/haenah/Developer/haenah/vpn-proxy-detector/detector/.conda/lib/python3.9/site-packages/sklearn/metrics/_classification.py:1760: UndefinedMetricWarning: F-score is ill-defined and being set to 0.0 due to no true nor predicted samples. Use `zero_division` parameter to control this behavior.\n",
      "  _warn_prf(average, \"true nor predicted\", \"F-score is\", len(true_sum))\n"
     ]
    },
    {
     "name": "stdout",
     "output_type": "stream",
     "text": [
      "f1 score for rdp is 0.0\n",
      "Loading rsync\n",
      "Loaded 1935 flows\n",
      "6\n",
      "f1 score for rsync is 1.0\n",
      "Loading scp\n",
      "Loaded 13472 flows\n",
      "3\n",
      "f1 score for scp is 1.0\n",
      "Loading sftp\n",
      "Loaded 1681 flows\n",
      "5\n",
      "f1 score for sftp is 1.0\n",
      "Loading skype_chat\n",
      "Loaded 1455 flows\n",
      "138\n",
      "f1 score for skype_chat is 1.0\n",
      "Loading ssh\n",
      "Loaded 15439 flows\n",
      "41\n",
      "f1 score for ssh is 1.0\n",
      "Loading vimeo\n",
      "Loaded 1218 flows\n",
      "1\n",
      "f1 score for vimeo is 0.0\n",
      "Loading voip\n",
      "Loaded 622 flows\n",
      "300\n",
      "f1 score for voip is 0.9770114942528736\n",
      "Loading youtube\n",
      "Loaded 341 flows\n",
      "3\n",
      "f1 score for youtube is 1.0\n",
      "Loading all services\n"
     ]
    },
    {
     "name": "stderr",
     "output_type": "stream",
     "text": [
      "/Users/haenah/Developer/haenah/vpn-proxy-detector/detector/.conda/lib/python3.9/site-packages/sklearn/metrics/_classification.py:1760: UndefinedMetricWarning: F-score is ill-defined and being set to 0.0 due to no true nor predicted samples. Use `zero_division` parameter to control this behavior.\n",
      "  _warn_prf(average, \"true nor predicted\", \"F-score is\", len(true_sum))\n"
     ]
    },
    {
     "name": "stdout",
     "output_type": "stream",
     "text": [
      "Loaded 176238 flows\n",
      "f1 score for all is 0.9570552147239264\n"
     ]
    }
   ],
   "source": [
    "# version 2\n",
    "print(\"===============VNAT===============\")\n",
    "for service in data.services_v2:\n",
    "    df = load_dataframe(service, version=2)\n",
    "    if len(df[df[\"label\"] == 1]) == 0:\n",
    "        print(f\"no vpn packet for {service}\")\n",
    "        continue\n",
    "    print(len(df[df[\"label\"] == 1]))\n",
    "    f1 = fit_test(df)\n",
    "    print(f\"f1 score for {service} is {f1}\")\n",
    "df = load_dataframe(version=2)\n",
    "f1 = fit_test(df)\n",
    "print(f\"f1 score for all is {f1}\")"
   ]
  }
 ],
 "metadata": {
  "kernelspec": {
   "display_name": "Python 3",
   "language": "python",
   "name": "python3"
  },
  "language_info": {
   "codemirror_mode": {
    "name": "ipython",
    "version": 3
   },
   "file_extension": ".py",
   "mimetype": "text/x-python",
   "name": "python",
   "nbconvert_exporter": "python",
   "pygments_lexer": "ipython3",
   "version": "3.9.18"
  }
 },
 "nbformat": 4,
 "nbformat_minor": 2
}
